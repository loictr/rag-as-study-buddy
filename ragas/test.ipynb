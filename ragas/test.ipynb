{
 "cells": [
  {
   "cell_type": "code",
   "execution_count": 19,
   "metadata": {},
   "outputs": [
    {
     "name": "stderr",
     "output_type": "stream",
     "text": [
      "Evaluating: 100%|██████████| 4/4 [00:03<00:00,  1.11it/s]"
     ]
    },
    {
     "name": "stdout",
     "output_type": "stream",
     "text": [
      "{'answer_relevancy': 1.0000, 'context_precision': 1.0000, 'faithfulness': 1.0000, 'context_recall': 1.0000}\n"
     ]
    },
    {
     "name": "stderr",
     "output_type": "stream",
     "text": [
      "\n"
     ]
    }
   ],
   "source": [
    "from langchain_ollama import OllamaEmbeddings, OllamaLLM\n",
    "from ragas import EvaluationDataset, SingleTurnSample, evaluate\n",
    "from ragas.metrics import LLMContextRecall, Faithfulness, FactualCorrectness, SemanticSimilarity\n",
    "from ragas.llms import LangchainLLMWrapper\n",
    "from ragas.embeddings import LangchainEmbeddingsWrapper\n",
    "\n",
    "EMBEDDING_MODEL = 'nomic-embed-text'\n",
    "LLM_MODEL = \"llama3.2\"\n",
    "\n",
    "# User's question\n",
    "user_input = \"What is the capital of France?\"\n",
    "\n",
    "# Retrieved contexts (e.g., from a knowledge base or search engine)\n",
    "retrieved_contexts = [\"Paris is the capital and most populous city of France.\"]\n",
    "\n",
    "# AI's response\n",
    "response = \"The capital of France is Paris.\"\n",
    "\n",
    "# Reference answer (ground truth)\n",
    "reference = \"Paris\"\n",
    "\n",
    "# Evaluation rubric\n",
    "rubric = {\n",
    "    \"accuracy\": \"Correct\",\n",
    "    \"completeness\": \"High\",\n",
    "    \"fluency\": \"Excellent\"\n",
    "}\n",
    "\n",
    "# Create the SingleTurnSample instance\n",
    "sample = SingleTurnSample(\n",
    "    user_input=user_input,\n",
    "    retrieved_contexts=retrieved_contexts,\n",
    "    response=response,\n",
    "    reference=reference,\n",
    "    rubric=rubric\n",
    ")\n",
    "\n",
    "eval_dataset = EvaluationDataset(samples=[sample])\n",
    "\n",
    "# # Create LLM instance\n",
    "# your_llm_instance = OllamaLLM(model=LLM_MODEL)\n",
    "# evaluator_llm = LangchainLLMWrapper(your_llm_instance)\n",
    "\n",
    "# # Create embeddings instance \n",
    "# evaluator_embeddings = LangchainEmbeddingsWrapper(OllamaEmbeddings(model=EMBEDDING_MODEL))\n",
    "\n",
    "# metrics = [\n",
    "#     LLMContextRecall(llm=evaluator_llm), \n",
    "#     FactualCorrectness(llm=evaluator_llm), \n",
    "#     Faithfulness(llm=evaluator_llm),\n",
    "#     #SemanticSimilarity(embeddings=evaluator_embeddings)\n",
    "# ]\n",
    "\n",
    "# Evaluate the dataset with the defined metrics\n",
    "results = evaluate(dataset=eval_dataset)#, metrics=metrics)\n",
    "print(results)\n",
    "\n"
   ]
  }
 ],
 "metadata": {
  "kernelspec": {
   "display_name": "venv",
   "language": "python",
   "name": "python3"
  },
  "language_info": {
   "codemirror_mode": {
    "name": "ipython",
    "version": 3
   },
   "file_extension": ".py",
   "mimetype": "text/x-python",
   "name": "python",
   "nbconvert_exporter": "python",
   "pygments_lexer": "ipython3",
   "version": "3.11.4"
  }
 },
 "nbformat": 4,
 "nbformat_minor": 2
}
